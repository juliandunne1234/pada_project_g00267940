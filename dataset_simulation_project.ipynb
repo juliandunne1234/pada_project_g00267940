{
 "cells": [
  {
   "cell_type": "markdown",
   "metadata": {},
   "source": [
    "# Programming for Data Analysis: Simulating Real World Phenomenom"
   ]
  },
  {
   "cell_type": "markdown",
   "metadata": {},
   "source": [
    "Author: Julian Dunne g00267940@gmit.ie"
   ]
  },
  {
   "cell_type": "markdown",
   "metadata": {},
   "source": [
    "Create a data set by simulating a real-world phenomenon. Model and synthesise the data using Python. Use the numpy.random package for this purpose. The project should include:\n",
    "\n",
    "- Choose a real-world phenomenon that can be measured and for which you could collect at least one-hundred data points across at least four different variables.\n",
    "\n",
    "- Investigate the types of variables involved, their likely distributions, and their relationships with each other.\n",
    "\n",
    "- Synthesise/simulate a data set as closely matching their properties as possible.\n",
    "\n",
    "- Detail your research and implement the simulation in a Jupyter notebook – the data set itself can simply be displayed in an output cell within the notebook."
   ]
  },
  {
   "cell_type": "markdown",
   "metadata": {},
   "source": [
    "# Project plan:\n",
    "\n",
    "Cardiovascular disease will be the subject for this project. The reason for choosing this topic is that there is many variables that noticeably increase the likelihood of developing heart disease and that these variables should be very useful for simulating a data set to demonstrate this real world phenomenom. "
   ]
  },
  {
   "cell_type": "markdown",
   "metadata": {},
   "source": [
    "# Project Assumptions for Cardiovascular Disease"
   ]
  },
  {
   "cell_type": "markdown",
   "metadata": {},
   "source": [
    "Cardiovascular disease includes all diseases of the heart and circulation but most commonly it refers to coronary heart disease (angina, heart attack), stroke and other blood vessel diseases. Other conditions include congenital heart disease, heart valve disease and disease of the heart muscle (cardiomyopathy) <b>insert reference here for irish heart foundation pdf by June Shannon 1stNo2018</b>. For the puposes of this project it will be assumed that all Cardiovascular diseases are the same disease. "
   ]
  },
  {
   "cell_type": "markdown",
   "metadata": {},
   "source": [
    "According to <b> insert reference https://www.medicinenet.com/script/main/art.asp?articlekey=203653 </b> it is estimated that a third of all dates around the world are the result of cardiovascular disease. This would make this disease the number one killer in the world."
   ]
  },
  {
   "cell_type": "markdown",
   "metadata": {},
   "source": [
    "As this is worldwdide phenomenom and for the purposes of this project it will be assumed that the dataset for this study focuses only on the population of Ireland and the United Kingdom. The reason being it would be expected that the population in these countries would be similiarly distributed including similiar work-life, diet, lifestyles etc."
   ]
  },
  {
   "cell_type": "markdown",
   "metadata": {},
   "source": [
    "Now that the above assumptions have been made it is possible to begin to consider what the factors are that can lead to developing Cardiovascular disease and the significance of these factors when analysing this disease.  "
   ]
  },
  {
   "cell_type": "markdown",
   "metadata": {},
   "source": [
    "### Age\n",
    "\n",
    "According to <b>insert reference here for irish heart foundation pdf by June Shannon 1stNo2018</b> more than 73.4 per cent of deaths due to cardiovascular disease in Ireland occurred in older people or those aged 75 and over. It is clear that age has a significant impact in mortality rates due to cardiovascular disease. A table showing age groups and the number of deaths in each age group was found in a publication by the British Heat Foundation <b>insert reference Heart and Circulatory Disease Statistics 2019 and a picture of the table</b> "
   ]
  },
  {
   "cell_type": "markdown",
   "metadata": {},
   "source": [
    "<img src=\"deaths_by_cause_UK_2017.png\" width=\"1000\" height=\"1000\">\n",
    "<br>"
   ]
  },
  {
   "cell_type": "markdown",
   "metadata": {},
   "source": [
    "Although this table is for the UK the percentage of deaths due to heart and circulatory diseases is very close to 73.4 per cent. Based on the table (49,329+75,671) / 168,472 gives 74.2 per cent of deaths due to cardiovascular disease in the UK occurred in older people or those aged 75 and over.\n",
    "\n",
    "This provides a greater confidence that reference data from Ireland and the UK is representative of each other and suitable for using as a point of reference when simulating datasets and assigning weightings to the different variables generate this dataset. \n",
    "\n",
    "<b>Note: </b>It is noticeable from the table that men are more likely to die at a younger age from cardiovascular disease wthan women who are more likely to die at an older age from the disease. This table would suggest that gender does matter and can be included as a variable in the dataset. "
   ]
  },
  {
   "cell_type": "markdown",
   "metadata": {},
   "source": [
    "### Gender\n",
    "\n",
    "According to the Vital Statistics Annual Report 2016 from the Central Statistics Office (CSO), there were a total of 9,237 deaths attributed to diseases of the circulatory system or cardiovascular disease in 2016, of which 4,768 were men and 4,469 were women <b>insert reference here for irish heart foundation pdf by June Shannon 1stNo2018</b>. It would appear that the number of dates between men and women in 2016 in Ireland from this disease was very similiar. However as explained already, there is a noticeably higher amount of females that die from the disease at an older age (+85). This will be looked at in more detail later on."
   ]
  },
  {
   "cell_type": "markdown",
   "metadata": {},
   "source": [
    "### Smoker Vs Non-smoker\n",
    "\n",
    "According to an article in International Business Times https://www.ibtimes.co.uk/smoking-tobacco-causes-20-percent-heart-disease-related-deaths-1683751, the World Health Organization (WHO) estimates that 20 percent of heart disease-related deaths are caused by tobacco use. This would suggest that smoking tobacco noticeably increase the likelihood of death from cardiovascular disease. A table showing the estimated number of smokers in the UK was found in a publication by the British Heat Foundation <b>insert reference Heart and Circulatory Disease Statistics 2019 and a picture of the table 5.10</b>"
   ]
  },
  {
   "cell_type": "markdown",
   "metadata": {},
   "source": [
    "<img src=\"smokers_UK_2017.png\" width=\"1000\" height=\"1000\">\n",
    "<br>"
   ]
  },
  {
   "cell_type": "markdown",
   "metadata": {},
   "source": [
    "An estimated 19 per cent of men smoke. It is slightly lower at 16 per cent for women. For the purposes of this project it will be assumed that men and women are the same and that the category is divided into smoker versus non smoker. The distinction between the amount of tobacco used daily will be divided in zero packets (non-smoker), one packet and greater than one packet."
   ]
  },
  {
   "cell_type": "markdown",
   "metadata": {},
   "source": [
    "### Weight\n",
    "\n",
    "A persons weight is categorised primarily using the body mass index (BMI) calculation by taking a persons weight in kilograms and dividing it by the height in meters squared. A table showing the prevalence of obesity in the UK was found in a publication by the British Heat Foundation <b>insert reference Heart and Circulatory Disease Statistics 2019 and a picture of the table 5.8</b>"
   ]
  },
  {
   "cell_type": "markdown",
   "metadata": {},
   "source": [
    "<img src=\"obesity_UK_2017.png\" width=\"1000\" height=\"1000\">\n",
    "<br>"
   ]
  },
  {
   "cell_type": "markdown",
   "metadata": {},
   "source": [
    "BMI may be an easy way to categorize weight in population-based studies, but it’s not a great way to assess an individual’s health risk without digging further. It doesn’t take into consideration things like muscle mass, body fat percentage, or where and how your body stores fat - see website for more detail https://www.self.com/story/the-science-on-weight-and-health. For the purposes of this project it is assumed that a persons weight is either \"accetable\" or \"obese\"."
   ]
  },
  {
   "cell_type": "markdown",
   "metadata": {},
   "source": [
    "### Cause of Death\n",
    "\n",
    "The simulated dataset will return a Cause_of_Death response for each death in the population. The cause of death is either as a result of cardiovascular disease or not as a result of the disease. The probability that the cause of death is related to the disease will consider the variables listed above and their significance with respect to the disease and mortality rates.\n",
    "***"
   ]
  },
  {
   "cell_type": "markdown",
   "metadata": {},
   "source": [
    "## Import the required libraries for this project:"
   ]
  },
  {
   "cell_type": "code",
   "execution_count": 1,
   "metadata": {},
   "outputs": [],
   "source": [
    "import numpy as np\n",
    "import pandas as pd\n",
    "import matplotlib.pyplot as plt"
   ]
  },
  {
   "cell_type": "markdown",
   "metadata": {},
   "source": [
    "***\n",
    "## Variable 1: Age\n",
    "\n",
    "While researching cardiovascular diseases it was noticeable the correlation between age and death as a result of the disease. Findings from studies in this area also showed that age as a category is usually grouped. This meant it was not necessary to generate specific ages for the sample of the population to be used in this project. By defining the age groups, it would be possible to generate a sample population for each group using the random choice method."
   ]
  },
  {
   "cell_type": "markdown",
   "metadata": {},
   "source": [
    "See website https://www.populationpyramid.net/ireland/2020/ for dataset that pprovided age grouping and gender distribution for each age group in Ireland in 2020. It was not possible to read this file in directly to pandas without causing a HTTP Error 403 so a copy of the excel file has been included as an attachment to this project. Note: As this dataset only had a few lines some entries were edited in notepad++ to make it easier to work with. The orginal excel file can be downloaded at https://www.populationpyramid.net/api/pp/372/2020/?csv=true. "
   ]
  },
  {
   "cell_type": "code",
   "execution_count": 2,
   "metadata": {},
   "outputs": [
    {
     "data": {
      "text/html": [
       "<div>\n",
       "<style scoped>\n",
       "    .dataframe tbody tr th:only-of-type {\n",
       "        vertical-align: middle;\n",
       "    }\n",
       "\n",
       "    .dataframe tbody tr th {\n",
       "        vertical-align: top;\n",
       "    }\n",
       "\n",
       "    .dataframe thead th {\n",
       "        text-align: right;\n",
       "    }\n",
       "</style>\n",
       "<table border=\"1\" class=\"dataframe\">\n",
       "  <thead>\n",
       "    <tr style=\"text-align: right;\">\n",
       "      <th></th>\n",
       "      <th>Age_group</th>\n",
       "      <th>M</th>\n",
       "      <th>F</th>\n",
       "    </tr>\n",
       "  </thead>\n",
       "  <tbody>\n",
       "    <tr>\n",
       "      <th>0</th>\n",
       "      <td>16-24</td>\n",
       "      <td>305540</td>\n",
       "      <td>296180</td>\n",
       "    </tr>\n",
       "    <tr>\n",
       "      <th>1</th>\n",
       "      <td>25-34</td>\n",
       "      <td>296129</td>\n",
       "      <td>292470</td>\n",
       "    </tr>\n",
       "    <tr>\n",
       "      <th>2</th>\n",
       "      <td>35-44</td>\n",
       "      <td>379535</td>\n",
       "      <td>401001</td>\n",
       "    </tr>\n",
       "    <tr>\n",
       "      <th>3</th>\n",
       "      <td>45-54</td>\n",
       "      <td>337318</td>\n",
       "      <td>342553</td>\n",
       "    </tr>\n",
       "    <tr>\n",
       "      <th>4</th>\n",
       "      <td>55-64</td>\n",
       "      <td>266125</td>\n",
       "      <td>272459</td>\n",
       "    </tr>\n",
       "    <tr>\n",
       "      <th>5</th>\n",
       "      <td>65-74</td>\n",
       "      <td>209153</td>\n",
       "      <td>218590</td>\n",
       "    </tr>\n",
       "    <tr>\n",
       "      <th>6</th>\n",
       "      <td>75-94</td>\n",
       "      <td>130065</td>\n",
       "      <td>162024</td>\n",
       "    </tr>\n",
       "  </tbody>\n",
       "</table>\n",
       "</div>"
      ],
      "text/plain": [
       "  Age_group       M       F\n",
       "0     16-24  305540  296180\n",
       "1     25-34  296129  292470\n",
       "2     35-44  379535  401001\n",
       "3     45-54  337318  342553\n",
       "4     55-64  266125  272459\n",
       "5     65-74  209153  218590\n",
       "6     75-94  130065  162024"
      ]
     },
     "execution_count": 2,
     "metadata": {},
     "output_type": "execute_result"
    }
   ],
   "source": [
    "#Skip rows 1-3 as study will not include population less than 16 years of age\n",
    "df_population = pd.read_csv(\"Ireland-2020.csv\", skiprows=[1,2,3])\n",
    "\n",
    "#Group data by Age_group and sum the male/female population for each age group\n",
    "df_population = df_population.groupby(['Age_group']).agg({'M': ['sum'], 'F': ['sum']}).reset_index()\n",
    "df_population.columns=(['Age_group', 'M', 'F'])\n",
    "df_population\n",
    "\n",
    "#Method to sum the male and female columns found on https://www.statology.org/pandas-groupby-aggregate-multiple-columns/"
   ]
  },
  {
   "cell_type": "code",
   "execution_count": 3,
   "metadata": {},
   "outputs": [
    {
     "data": {
      "image/png": "[encoded data removed]",
      "text/plain": [
       "<Figure size 648x432 with 2 Axes>"
      ]
     },
     "metadata": {
      "needs_background": "light"
     },
     "output_type": "display_data"
    }
   ],
   "source": [
    "#Plot the number of males v females for each age group in the population\n",
    "#see website https://www.statology.org/population-pyramid-python/ for pyramid subplot code\n",
    "\n",
    "#Specify the x and y axis\n",
    "y = range(len(df_population))\n",
    "x_male = df_population['M']\n",
    "x_female = df_population['F']\n",
    "\n",
    "#Configure the chart\n",
    "fig, axes = plt.subplots(ncols=2, sharey=True, figsize=(9, 6))\n",
    "axes[0].barh(y, x_male, align='center', color='blue')\n",
    "axes[0].set(title='Male')\n",
    "axes[1].barh(y, x_female, align='center', color='red')\n",
    "axes[1].set(title='Female')\n",
    "\n",
    "#Define the 'Age group' for the chart and invert so that charts are mirroring\n",
    "axes[0].set(yticks=y, yticklabels=df_population['Age_group'])\n",
    "axes[0].invert_xaxis()\n",
    "axes[0].grid()\n",
    "axes[1].grid()\n",
    "\n",
    "plt.show()"
   ]
  },
  {
   "cell_type": "markdown",
   "metadata": {},
   "source": [
    "Using the df_population dataframe it is possible to calculate the percentage of the population that falls into each age group."
   ]
  },
  {
   "cell_type": "code",
   "execution_count": 4,
   "metadata": {},
   "outputs": [
    {
     "data": {
      "text/html": [
       "<div>\n",
       "<style scoped>\n",
       "    .dataframe tbody tr th:only-of-type {\n",
       "        vertical-align: middle;\n",
       "    }\n",
       "\n",
       "    .dataframe tbody tr th {\n",
       "        vertical-align: top;\n",
       "    }\n",
       "\n",
       "    .dataframe thead th {\n",
       "        text-align: right;\n",
       "    }\n",
       "</style>\n",
       "<table border=\"1\" class=\"dataframe\">\n",
       "  <thead>\n",
       "    <tr style=\"text-align: right;\">\n",
       "      <th></th>\n",
       "      <th>Age_group</th>\n",
       "      <th>M</th>\n",
       "      <th>F</th>\n",
       "      <th>gen_count</th>\n",
       "      <th>population%</th>\n",
       "    </tr>\n",
       "  </thead>\n",
       "  <tbody>\n",
       "    <tr>\n",
       "      <th>0</th>\n",
       "      <td>16-24</td>\n",
       "      <td>305540</td>\n",
       "      <td>296180</td>\n",
       "      <td>601720</td>\n",
       "      <td>0.154</td>\n",
       "    </tr>\n",
       "    <tr>\n",
       "      <th>1</th>\n",
       "      <td>25-34</td>\n",
       "      <td>296129</td>\n",
       "      <td>292470</td>\n",
       "      <td>588599</td>\n",
       "      <td>0.151</td>\n",
       "    </tr>\n",
       "    <tr>\n",
       "      <th>2</th>\n",
       "      <td>35-44</td>\n",
       "      <td>379535</td>\n",
       "      <td>401001</td>\n",
       "      <td>780536</td>\n",
       "      <td>0.200</td>\n",
       "    </tr>\n",
       "    <tr>\n",
       "      <th>3</th>\n",
       "      <td>45-54</td>\n",
       "      <td>337318</td>\n",
       "      <td>342553</td>\n",
       "      <td>679871</td>\n",
       "      <td>0.174</td>\n",
       "    </tr>\n",
       "    <tr>\n",
       "      <th>4</th>\n",
       "      <td>55-64</td>\n",
       "      <td>266125</td>\n",
       "      <td>272459</td>\n",
       "      <td>538584</td>\n",
       "      <td>0.138</td>\n",
       "    </tr>\n",
       "    <tr>\n",
       "      <th>5</th>\n",
       "      <td>65-74</td>\n",
       "      <td>209153</td>\n",
       "      <td>218590</td>\n",
       "      <td>427743</td>\n",
       "      <td>0.109</td>\n",
       "    </tr>\n",
       "    <tr>\n",
       "      <th>6</th>\n",
       "      <td>75-94</td>\n",
       "      <td>130065</td>\n",
       "      <td>162024</td>\n",
       "      <td>292089</td>\n",
       "      <td>0.075</td>\n",
       "    </tr>\n",
       "  </tbody>\n",
       "</table>\n",
       "</div>"
      ],
      "text/plain": [
       "  Age_group       M       F  gen_count  population%\n",
       "0     16-24  305540  296180     601720        0.154\n",
       "1     25-34  296129  292470     588599        0.151\n",
       "2     35-44  379535  401001     780536        0.200\n",
       "3     45-54  337318  342553     679871        0.174\n",
       "4     55-64  266125  272459     538584        0.138\n",
       "5     65-74  209153  218590     427743        0.109\n",
       "6     75-94  130065  162024     292089        0.075"
      ]
     },
     "execution_count": 4,
     "metadata": {},
     "output_type": "execute_result"
    }
   ],
   "source": [
    "#Combine male/female population for each age group and show as percentage of population\n",
    "df_population['gen_count'] = df_population['M'] + df_population['F']\n",
    "\n",
    "#round population percentage to 3 decimal places\n",
    "df_population['population%'] = round(df_population['gen_count']/df_population['gen_count'].sum(), 3)\n",
    "df_population"
   ]
  },
  {
   "cell_type": "markdown",
   "metadata": {},
   "source": [
    "This study does not need the actual ages of the population but rather the population by age groups. It will be possible to generate this data using the random choice method. The population% column will also be used to assign a weighting for the popoulation size of each age group based on an overall sample size 10000."
   ]
  },
  {
   "cell_type": "code",
   "execution_count": 5,
   "metadata": {},
   "outputs": [
    {
     "data": {
      "text/plain": [
       "array(['16-24', '25-34', '35-44', '45-54', '55-64', '65-74', '75-94'],\n",
       "      dtype=object)"
      ]
     },
     "execution_count": 5,
     "metadata": {},
     "output_type": "execute_result"
    }
   ],
   "source": [
    "age_list = df_population['Age_group'].to_numpy()\n",
    "age_list"
   ]
  },
  {
   "cell_type": "code",
   "execution_count": 12,
   "metadata": {},
   "outputs": [
    {
     "data": {
      "text/plain": [
       "array(['35-44', '16-24', '45-54', ..., '55-64', '55-64', '25-34'],\n",
       "      dtype=object)"
      ]
     },
     "execution_count": 12,
     "metadata": {},
     "output_type": "execute_result"
    }
   ],
   "source": [
    "#Set the seed so that the pseudo-random data chosen is repeatable\n",
    "np.random.seed(2)\n",
    "\n",
    "#Rounding the population% to 3 decimal places - rounding to 0.150 for second item so sum of values equals 1\n",
    "age_population = np.random.choice(age_list, 10000, p=[0.154, 0.150, 0.200, 0.174, 0.138, 0.109, 0.075])\n",
    "age_population"
   ]
  },
  {
   "cell_type": "code",
   "execution_count": 13,
   "metadata": {},
   "outputs": [
    {
     "name": "stdout",
     "output_type": "stream",
     "text": [
      "{'16-24': 1597, '25-34': 1554, '35-44': 2023, '45-54': 1660, '55-64': 1330, '65-74': 1071, '75-94': 765}\n"
     ]
    }
   ],
   "source": [
    "#Count the number of times each age-group appears(each value is representative of a person)\n",
    "age_group_dict = {}\n",
    "\n",
    "for i in age_population: \n",
    "\n",
    "    age_group_dict[i] = age_group_dict.get(i, 0) + 1\n",
    "    age_group_dict = dict(sorted(age_group_dict.items()))\n",
    "    \n",
    "print(age_group_dict)"
   ]
  },
  {
   "cell_type": "code",
   "execution_count": 14,
   "metadata": {},
   "outputs": [
    {
     "data": {
      "image/png": "[encoded data removed]",
      "text/plain": [
       "<Figure size 432x288 with 1 Axes>"
      ]
     },
     "metadata": {
      "needs_background": "light"
     },
     "output_type": "display_data"
    }
   ],
   "source": [
    "#Bar chart of the pseudo randomly generated data for the population and age group\n",
    "plt.bar(range(len(age_group_dict)), list(age_group_dict.values()))\n",
    "plt.xticks(range(len(age_group_dict)), list(age_group_dict.keys()))\n",
    "\n",
    "plt.title(\"Population grouped by age group\")\n",
    "plt.xlabel(\"Age groups\")\n",
    "plt.ylabel(\"No of persons\")\n",
    "\n",
    "plt.show()\n",
    "\n",
    "#Assistance on plotting chart using a dictionary found at\n",
    "#https://stackoverflow.com/questions/16010869/plot-a-bar-using-matplotlib-using-a-dictionary"
   ]
  },
  {
   "cell_type": "markdown",
   "metadata": {},
   "source": [
    "The bar chart above follows a similiar pattern to the actual population and how it is distributed between each age group in Ireland."
   ]
  },
  {
   "cell_type": "code",
   "execution_count": 15,
   "metadata": {},
   "outputs": [],
   "source": [
    "#Preparing the simulated dataset\n",
    "cvd_sim = pd.DataFrame.from_dict(age_group_dict, orient='index')\n",
    "cvd_sim.columns=(['sim_pop'])\n",
    "\n",
    "#Reference to orient='index' found at https://www.geeksforgeeks.org/how-to-convert-dictionary-to-pandas-dataframe/"
   ]
  },
  {
   "cell_type": "code",
   "execution_count": 16,
   "metadata": {},
   "outputs": [],
   "source": [
    "#Reset the index so that age_group is a category \n",
    "#https://stackoverflow.com/questions/20107570/removing-index-column-in-pandas-when-reading-a-csv\n",
    "cvd_sim = cvd_sim.reset_index()"
   ]
  },
  {
   "cell_type": "code",
   "execution_count": 17,
   "metadata": {},
   "outputs": [
    {
     "data": {
      "text/html": [
       "<div>\n",
       "<style scoped>\n",
       "    .dataframe tbody tr th:only-of-type {\n",
       "        vertical-align: middle;\n",
       "    }\n",
       "\n",
       "    .dataframe tbody tr th {\n",
       "        vertical-align: top;\n",
       "    }\n",
       "\n",
       "    .dataframe thead th {\n",
       "        text-align: right;\n",
       "    }\n",
       "</style>\n",
       "<table border=\"1\" class=\"dataframe\">\n",
       "  <thead>\n",
       "    <tr style=\"text-align: right;\">\n",
       "      <th></th>\n",
       "      <th>age_group</th>\n",
       "      <th>sim_pop</th>\n",
       "    </tr>\n",
       "  </thead>\n",
       "  <tbody>\n",
       "    <tr>\n",
       "      <th>0</th>\n",
       "      <td>16-24</td>\n",
       "      <td>1597</td>\n",
       "    </tr>\n",
       "    <tr>\n",
       "      <th>1</th>\n",
       "      <td>25-34</td>\n",
       "      <td>1554</td>\n",
       "    </tr>\n",
       "    <tr>\n",
       "      <th>2</th>\n",
       "      <td>35-44</td>\n",
       "      <td>2023</td>\n",
       "    </tr>\n",
       "    <tr>\n",
       "      <th>3</th>\n",
       "      <td>45-54</td>\n",
       "      <td>1660</td>\n",
       "    </tr>\n",
       "    <tr>\n",
       "      <th>4</th>\n",
       "      <td>55-64</td>\n",
       "      <td>1330</td>\n",
       "    </tr>\n",
       "    <tr>\n",
       "      <th>5</th>\n",
       "      <td>65-74</td>\n",
       "      <td>1071</td>\n",
       "    </tr>\n",
       "    <tr>\n",
       "      <th>6</th>\n",
       "      <td>75-94</td>\n",
       "      <td>765</td>\n",
       "    </tr>\n",
       "  </tbody>\n",
       "</table>\n",
       "</div>"
      ],
      "text/plain": [
       "  age_group  sim_pop\n",
       "0     16-24     1597\n",
       "1     25-34     1554\n",
       "2     35-44     2023\n",
       "3     45-54     1660\n",
       "4     55-64     1330\n",
       "5     65-74     1071\n",
       "6     75-94      765"
      ]
     },
     "execution_count": 17,
     "metadata": {},
     "output_type": "execute_result"
    }
   ],
   "source": [
    "cvd_sim.columns=(['age_group', 'sim_pop'])\n",
    "cvd_sim"
   ]
  },
  {
   "cell_type": "markdown",
   "metadata": {},
   "source": [
    "***\n",
    "\n",
    "## Variable 2: Gender\n",
    "\n",
    "Using the Ireland-2020 population pyramid dataset as the primary reference point it would appear that the gender ratio of male to female for each age group is very similiar. However the background reseach used in the introduction of this project and published in the British Heart Foundationand indicates that females are possibly at higher risk above 85 years of age from dying due to the disease. A gender weighting for each age group will therefore be included when generating the pseudo-random data for this category."
   ]
  },
  {
   "cell_type": "markdown",
   "metadata": {},
   "source": [
    "<b>Gender weighting:</b> This is determined based on the number of males to females for each age group using the Ireland-2020 dataset as the reference point. "
   ]
  },
  {
   "cell_type": "code",
   "execution_count": 18,
   "metadata": {},
   "outputs": [
    {
     "data": {
      "text/plain": [
       "array([1597, 1554, 2023, 1660, 1330, 1071,  765], dtype=int64)"
      ]
     },
     "execution_count": 18,
     "metadata": {},
     "output_type": "execute_result"
    }
   ],
   "source": [
    "#Convert simulated population age groupings to array\n",
    "sim_pop_arr = cvd_sim['sim_pop'].to_numpy()\n",
    "sim_pop_arr"
   ]
  },
  {
   "cell_type": "code",
   "execution_count": 20,
   "metadata": {},
   "outputs": [
    {
     "data": {
      "text/plain": [
       "array([0.52, 0.51, 0.47, 0.49, 0.49, 0.48, 0.4 ])"
      ]
     },
     "execution_count": 20,
     "metadata": {},
     "output_type": "execute_result"
    }
   ],
   "source": [
    "#Determine male/female weighting based on the Ireland 2020 dataset for each age group\n",
    "gend_prob = (round(((df_population['M']/df_population['F'])/2), 2)).to_numpy()\n",
    "gend_prob"
   ]
  },
  {
   "cell_type": "code",
   "execution_count": 22,
   "metadata": {},
   "outputs": [
    {
     "data": {
      "text/plain": [
       "[array([823], dtype=int64),\n",
       " array([785], dtype=int64),\n",
       " array([942], dtype=int64),\n",
       " array([812], dtype=int64),\n",
       " array([639], dtype=int64),\n",
       " array([483], dtype=int64),\n",
       " array([299], dtype=int64)]"
      ]
     },
     "execution_count": 22,
     "metadata": {},
     "output_type": "execute_result"
    }
   ],
   "source": [
    "#Create array that includes the simulated no. of males for each age group\n",
    "sim_male = []\n",
    "\n",
    "for pop, prob in zip(sim_pop_arr, gend_prob):\n",
    "\n",
    "    m = np.random.default_rng().binomial(pop, prob, 1)\n",
    "    sim_male.append(m)\n",
    "\n",
    "sim_male\n",
    "\n",
    "#Reference https://pythonbasics.org/pandas-iterate-dataframe/ for example on applying the zip method"
   ]
  },
  {
   "cell_type": "code",
   "execution_count": 23,
   "metadata": {},
   "outputs": [
    {
     "data": {
      "text/plain": [
       "array([[823],\n",
       "       [785],\n",
       "       [942],\n",
       "       [812],\n",
       "       [639],\n",
       "       [483],\n",
       "       [299]], dtype=int64)"
      ]
     },
     "execution_count": 23,
     "metadata": {},
     "output_type": "execute_result"
    }
   ],
   "source": [
    "#Convert to numpy array\n",
    "sim_male_arr = np.array(sim_male)\n",
    "sim_male_arr"
   ]
  },
  {
   "cell_type": "code",
   "execution_count": 24,
   "metadata": {},
   "outputs": [
    {
     "data": {
      "text/plain": [
       "array([823, 785, 942, 812, 639, 483, 299], dtype=int64)"
      ]
     },
     "execution_count": 24,
     "metadata": {},
     "output_type": "execute_result"
    }
   ],
   "source": [
    "#Convert 2d array to 1d using flatten method\n",
    "## https://thispointer.com/python-convert-matrix-2d-numpy-array-to-a-1d-numpy-array/#:~:text=Convert%202D%20Numpy%20array%20to%201D%20Numpy%20array,a%20flatten%201D%20view%20of%20the%20input%20array%2C\n",
    "sim_male_flat = sim_male_arr.flatten()\n",
    "sim_male_flat"
   ]
  },
  {
   "cell_type": "code",
   "execution_count": 25,
   "metadata": {},
   "outputs": [
    {
     "data": {
      "text/html": [
       "<div>\n",
       "<style scoped>\n",
       "    .dataframe tbody tr th:only-of-type {\n",
       "        vertical-align: middle;\n",
       "    }\n",
       "\n",
       "    .dataframe tbody tr th {\n",
       "        vertical-align: top;\n",
       "    }\n",
       "\n",
       "    .dataframe thead th {\n",
       "        text-align: right;\n",
       "    }\n",
       "</style>\n",
       "<table border=\"1\" class=\"dataframe\">\n",
       "  <thead>\n",
       "    <tr style=\"text-align: right;\">\n",
       "      <th></th>\n",
       "      <th>age_group</th>\n",
       "      <th>sim_pop</th>\n",
       "      <th>male</th>\n",
       "      <th>female</th>\n",
       "    </tr>\n",
       "  </thead>\n",
       "  <tbody>\n",
       "    <tr>\n",
       "      <th>0</th>\n",
       "      <td>16-24</td>\n",
       "      <td>1597</td>\n",
       "      <td>823</td>\n",
       "      <td>774</td>\n",
       "    </tr>\n",
       "    <tr>\n",
       "      <th>1</th>\n",
       "      <td>25-34</td>\n",
       "      <td>1554</td>\n",
       "      <td>785</td>\n",
       "      <td>769</td>\n",
       "    </tr>\n",
       "    <tr>\n",
       "      <th>2</th>\n",
       "      <td>35-44</td>\n",
       "      <td>2023</td>\n",
       "      <td>942</td>\n",
       "      <td>1081</td>\n",
       "    </tr>\n",
       "    <tr>\n",
       "      <th>3</th>\n",
       "      <td>45-54</td>\n",
       "      <td>1660</td>\n",
       "      <td>812</td>\n",
       "      <td>848</td>\n",
       "    </tr>\n",
       "    <tr>\n",
       "      <th>4</th>\n",
       "      <td>55-64</td>\n",
       "      <td>1330</td>\n",
       "      <td>639</td>\n",
       "      <td>691</td>\n",
       "    </tr>\n",
       "    <tr>\n",
       "      <th>5</th>\n",
       "      <td>65-74</td>\n",
       "      <td>1071</td>\n",
       "      <td>483</td>\n",
       "      <td>588</td>\n",
       "    </tr>\n",
       "    <tr>\n",
       "      <th>6</th>\n",
       "      <td>75-94</td>\n",
       "      <td>765</td>\n",
       "      <td>299</td>\n",
       "      <td>466</td>\n",
       "    </tr>\n",
       "  </tbody>\n",
       "</table>\n",
       "</div>"
      ],
      "text/plain": [
       "  age_group  sim_pop  male  female\n",
       "0     16-24     1597   823     774\n",
       "1     25-34     1554   785     769\n",
       "2     35-44     2023   942    1081\n",
       "3     45-54     1660   812     848\n",
       "4     55-64     1330   639     691\n",
       "5     65-74     1071   483     588\n",
       "6     75-94      765   299     466"
      ]
     },
     "execution_count": 25,
     "metadata": {},
     "output_type": "execute_result"
    }
   ],
   "source": [
    "#Change array to pandas Series\n",
    "sim_male_flat = pd.Series(sim_male_flat)\n",
    "\n",
    "#Add the series to the simulated dataset\n",
    "#This is the simulated amount of males per age group generated using random binomial method\n",
    "cvd_sim['male'] = sim_male_flat\n",
    "\n",
    "#This is the simulated amount of females per age group\n",
    "cvd_sim['female'] = cvd_sim['sim_pop'] - cvd_sim['male']\n",
    "\n",
    "cvd_sim"
   ]
  },
  {
   "cell_type": "code",
   "execution_count": 26,
   "metadata": {},
   "outputs": [
    {
     "data": {
      "image/png": "[encoded data removed]",
      "text/plain": [
       "<Figure size 648x432 with 2 Axes>"
      ]
     },
     "metadata": {
      "needs_background": "light"
     },
     "output_type": "display_data"
    }
   ],
   "source": [
    "#Plot the number of males v females for each age group in the simulated population\n",
    "\n",
    "#Specify the x and y axis\n",
    "y1 = range(len(cvd_sim))\n",
    "sim_male = cvd_sim['male']\n",
    "sim_female = cvd_sim['female']\n",
    "\n",
    "#Configure the chart\n",
    "fig, axes = plt.subplots(ncols=2, sharey=True, figsize=(9, 6))\n",
    "axes[0].barh(y1, sim_male, align='center', color='grey')\n",
    "axes[0].set(title='Simulated Males')\n",
    "axes[1].barh(y1, sim_female, align='center', color='yellow')\n",
    "axes[1].set(title='Simulated Females')\n",
    "\n",
    "#Define the 'Age group' for the chart and invert so that charts are mirroring\n",
    "axes[0].set(yticks=y, yticklabels=cvd_sim['age_group'])\n",
    "axes[0].invert_xaxis()\n",
    "axes[0].grid()\n",
    "axes[1].grid()\n",
    "\n",
    "plt.show()"
   ]
  }
 ],
 "metadata": {
  "kernelspec": {
   "display_name": "Python 3",
   "language": "python",
   "name": "python3"
  },
  "language_info": {
   "codemirror_mode": {
    "name": "ipython",
    "version": 3
   },
   "file_extension": ".py",
   "mimetype": "text/x-python",
   "name": "python",
   "nbconvert_exporter": "python",
   "pygments_lexer": "ipython3",
   "version": "3.8.3"
  }
 },
 "nbformat": 4,
 "nbformat_minor": 4
}
