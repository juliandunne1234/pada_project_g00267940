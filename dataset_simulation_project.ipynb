{
 "cells": [
  {
   "cell_type": "markdown",
   "metadata": {},
   "source": [
    "# Programming for Data Analysis: Simulating Real World Phenomenom"
   ]
  },
  {
   "cell_type": "markdown",
   "metadata": {},
   "source": [
    "Author: Julian Dunne g00267940@gmit.ie"
   ]
  },
  {
   "cell_type": "markdown",
   "metadata": {},
   "source": [
    "Create a data set by simulating a real-world phenomenon. Model and synthesise the data using Python. Use the numpy.random package for this purpose. The project should include:\n",
    "\n",
    "- Choose a real-world phenomenon that can be measured and for which you could collect at least one-hundred data points across at least four different variables.\n",
    "\n",
    "- Investigate the types of variables involved, their likely distributions, and their relationships with each other.\n",
    "\n",
    "- Synthesise/simulate a data set as closely matching their properties as possible.\n",
    "\n",
    "- Detail your research and implement the simulation in a Jupyter notebook – the data set itself can simply be displayed in an output cell within the notebook."
   ]
  },
  {
   "cell_type": "markdown",
   "metadata": {},
   "source": [
    "# Project plan:\n",
    "\n",
    "Cardiovascular disease will be the subject for this project. The reason for choosing this topic is that there is many variables that noticeably increase the likelihood of developing heart disease and that these variables should be very useful for simulating a data set to demonstrate this real world phenomenom. "
   ]
  },
  {
   "cell_type": "markdown",
   "metadata": {},
   "source": [
    "# Project Assumptions for Cardiovascular Disease"
   ]
  },
  {
   "cell_type": "markdown",
   "metadata": {},
   "source": [
    "Cardiovascular disease includes all diseases of the heart and circulation but most commonly it refers to coronary heart disease (angina, heart attack), stroke and other blood vessel diseases. Other conditions include congenital heart disease, heart valve disease and disease of the heart muscle (cardiomyopathy) <b>insert reference here for irish heart foundation pdf by June Shannon 1stNo2018</b>. For the puposes of this project it will be assumed that all Cardiovascular diseases are the same disease. "
   ]
  },
  {
   "cell_type": "markdown",
   "metadata": {},
   "source": [
    "According to <b> insert reference https://www.medicinenet.com/script/main/art.asp?articlekey=203653 </b> it is estimated that a third of all dates around the world are the result of cardiovascular disease. This would make this disease the number one killer in the world."
   ]
  },
  {
   "cell_type": "markdown",
   "metadata": {},
   "source": [
    "As this is worldwdide phenomenom and for the purposes of this project it will be assumed that the dataset for this study focuses only on the population of Ireland and the United Kingdom. The reason being it would be expected that the population in these countries would be similiarly distributed including similiar work-life, diet, lifestyles etc."
   ]
  },
  {
   "cell_type": "markdown",
   "metadata": {},
   "source": [
    "Now that the above assumptions have been made it is possible to begin to consider what the factors are that can lead to developing Cardiovascular disease and the significance of these factors when analysing this disease.  "
   ]
  },
  {
   "cell_type": "markdown",
   "metadata": {},
   "source": [
    "### Age\n",
    "\n",
    "According to <b>insert reference here for irish heart foundation pdf by June Shannon 1stNo2018</b> more than 73.4 per cent of deaths due to cardiovascular disease in Ireland occurred in older people or those aged 75 and over. It is clear that age has a significant impact in mortality rates due to cardiovascular disease. A table showing age groups and the number of deaths in each age group was found in a publication by the British Heat Foundation <b>insert reference Heart and Circulatory Disease Statistics 2019 and a picture of the table</b> "
   ]
  },
  {
   "cell_type": "markdown",
   "metadata": {},
   "source": [
    "<img src=\"deaths_by_cause_UK_2017.png\" width=\"1000\" height=\"1000\">\n",
    "<br>"
   ]
  },
  {
   "cell_type": "markdown",
   "metadata": {},
   "source": [
    "Although this table is for the UK the percentage of deaths due to heart and circulatory diseases is very close to 73.4 per cent. Based on the table (49,329+75,671) / 168,472 gives 74.2 per cent of deaths due to cardiovascular disease in the UK occurred in older people or those aged 75 and over.\n",
    "\n",
    "This provides a greater confidence that reference data from Ireland and the UK is representative of each other and suitable for using as a point of reference when simulating datasets and assigning weightings to the different variables generate this dataset. \n",
    "\n",
    "<b>Note: </b>It is noticeable from the table that men are more likely to die at a younger age from cardiovascular disease wthan women who are more likely to die at an older age from the disease. This table would suggest that gender does matter and can be included as a variable in the dataset. "
   ]
  },
  {
   "cell_type": "markdown",
   "metadata": {},
   "source": [
    "### Gender\n",
    "\n",
    "According to the Vital Statistics Annual Report 2016 from the Central Statistics Office (CSO), there were a total of 9,237 deaths attributed to diseases of the circulatory system or cardiovascular disease in 2016, of which 4,768 were men and 4,469 were women <b>insert reference here for irish heart foundation pdf by June Shannon 1stNo2018</b>. It would appear that the number of dates between men and women in 2016 in Ireland from this disease was very similiar. However as explained already, there is a noticeably higher amount of females that die from the disease at an older age (+85). This will be looked at in more detail later on."
   ]
  },
  {
   "cell_type": "markdown",
   "metadata": {},
   "source": [
    "### Smoker Vs Non-smoker\n",
    "\n",
    "According to an article in International Business Times https://www.ibtimes.co.uk/smoking-tobacco-causes-20-percent-heart-disease-related-deaths-1683751, the World Health Organization (WHO) estimates that 20 percent of heart disease-related deaths are caused by tobacco use. This would suggest that smoking tobacco noticeably increase the likelihood of death from cardiovascular disease. A table showing the estimated number of smokers in the UK was found in a publication by the British Heat Foundation <b>insert reference Heart and Circulatory Disease Statistics 2019 and a picture of the table 5.10</b>"
   ]
  },
  {
   "cell_type": "markdown",
   "metadata": {},
   "source": [
    "<img src=\"smokers_UK_2017.png\" width=\"1000\" height=\"1000\">\n",
    "<br>"
   ]
  },
  {
   "cell_type": "markdown",
   "metadata": {},
   "source": [
    "An estimated 19 per cent of men smoke. It is slightly lower at 16 per cent for women. For the purposes of this project it will be assumed that men and women are the same and that the category is divided into smoker versus non smoker. The distinction between the amount of tobacco used daily will be divided in zero packets (non-smoker), one packet and greater than one packet."
   ]
  },
  {
   "cell_type": "markdown",
   "metadata": {},
   "source": [
    "### Weight\n",
    "\n",
    "A persons weight is categorised primarily using the body mass index (BMI) calculation by taking a persons weight in kilograms and dividing it by the height in meters squared. A table showing the prevalence of obesity in the UK was found in a publication by the British Heat Foundation <b>insert reference Heart and Circulatory Disease Statistics 2019 and a picture of the table 5.8</b>"
   ]
  },
  {
   "cell_type": "markdown",
   "metadata": {},
   "source": [
    "<img src=\"obesity_UK_2017.png\" width=\"1000\" height=\"1000\">\n",
    "<br>"
   ]
  },
  {
   "cell_type": "markdown",
   "metadata": {},
   "source": [
    "BMI may be an easy way to categorize weight in population-based studies, but it’s not a great way to assess an individual’s health risk without digging further. It doesn’t take into consideration things like muscle mass, body fat percentage, or where and how your body stores fat - see website for more detail https://www.self.com/story/the-science-on-weight-and-health. For the purposes of this project it is assumed that a persons weight is either \"acceptable\" or \"obese\"."
   ]
  },
  {
   "cell_type": "markdown",
   "metadata": {},
   "source": [
    "### Cause of Death\n",
    "\n",
    "The simulated dataset will return a Cause_of_Death response for each death in the population. The cause of death is either as a result of cardiovascular disease or not as a result of the disease. The probability that the cause of death is related to the disease will consider the variables listed above and their significance with respect to the disease and mortality rates.\n",
    "***"
   ]
  },
  {
   "cell_type": "markdown",
   "metadata": {},
   "source": [
    "## Import the required libraries for this project:"
   ]
  },
  {
   "cell_type": "code",
   "execution_count": 1,
   "metadata": {},
   "outputs": [],
   "source": [
    "import numpy as np\n",
    "import pandas as pd\n",
    "import matplotlib.pyplot as plt"
   ]
  },
  {
   "cell_type": "markdown",
   "metadata": {},
   "source": [
    "***\n",
    "## Variable 1: Age\n",
    "\n",
    "While researching cardiovascular diseases it was noticeable the correlation between age and death as a result of the disease. Findings from studies in this area also showed that age as a category is usually grouped. This meant it was not necessary to generate specific ages for the sample of the population to be used in this project. By defining the age groups, it would be possible to generate a sample population for each group using the random choice method."
   ]
  },
  {
   "cell_type": "markdown",
   "metadata": {},
   "source": [
    "See website https://www.populationpyramid.net/ireland/2020/ for dataset that pprovided age grouping and gender distribution for each age group in Ireland in 2020. It was not possible to read this file in directly to pandas without causing a HTTP Error 403 so a copy of the excel file has been included as an attachment to this project. Note: As this dataset only had a few lines some entries were edited in notepad++ to make it easier to work with. The orginal excel file can be downloaded at https://www.populationpyramid.net/api/pp/372/2020/?csv=true. "
   ]
  },
  {
   "cell_type": "code",
   "execution_count": 2,
   "metadata": {},
   "outputs": [
    {
     "data": {
      "text/html": [
       "<div>\n",
       "<style scoped>\n",
       "    .dataframe tbody tr th:only-of-type {\n",
       "        vertical-align: middle;\n",
       "    }\n",
       "\n",
       "    .dataframe tbody tr th {\n",
       "        vertical-align: top;\n",
       "    }\n",
       "\n",
       "    .dataframe thead th {\n",
       "        text-align: right;\n",
       "    }\n",
       "</style>\n",
       "<table border=\"1\" class=\"dataframe\">\n",
       "  <thead>\n",
       "    <tr style=\"text-align: right;\">\n",
       "      <th></th>\n",
       "      <th>Age_group</th>\n",
       "      <th>M</th>\n",
       "      <th>F</th>\n",
       "    </tr>\n",
       "  </thead>\n",
       "  <tbody>\n",
       "    <tr>\n",
       "      <th>0</th>\n",
       "      <td>16-24</td>\n",
       "      <td>305540</td>\n",
       "      <td>296180</td>\n",
       "    </tr>\n",
       "    <tr>\n",
       "      <th>1</th>\n",
       "      <td>25-34</td>\n",
       "      <td>296129</td>\n",
       "      <td>292470</td>\n",
       "    </tr>\n",
       "    <tr>\n",
       "      <th>2</th>\n",
       "      <td>35-44</td>\n",
       "      <td>379535</td>\n",
       "      <td>401001</td>\n",
       "    </tr>\n",
       "    <tr>\n",
       "      <th>3</th>\n",
       "      <td>45-54</td>\n",
       "      <td>337318</td>\n",
       "      <td>342553</td>\n",
       "    </tr>\n",
       "    <tr>\n",
       "      <th>4</th>\n",
       "      <td>55-64</td>\n",
       "      <td>266125</td>\n",
       "      <td>272459</td>\n",
       "    </tr>\n",
       "    <tr>\n",
       "      <th>5</th>\n",
       "      <td>65-74</td>\n",
       "      <td>209153</td>\n",
       "      <td>218590</td>\n",
       "    </tr>\n",
       "    <tr>\n",
       "      <th>6</th>\n",
       "      <td>75-94</td>\n",
       "      <td>130065</td>\n",
       "      <td>162024</td>\n",
       "    </tr>\n",
       "  </tbody>\n",
       "</table>\n",
       "</div>"
      ],
      "text/plain": [
       "  Age_group       M       F\n",
       "0     16-24  305540  296180\n",
       "1     25-34  296129  292470\n",
       "2     35-44  379535  401001\n",
       "3     45-54  337318  342553\n",
       "4     55-64  266125  272459\n",
       "5     65-74  209153  218590\n",
       "6     75-94  130065  162024"
      ]
     },
     "execution_count": 2,
     "metadata": {},
     "output_type": "execute_result"
    }
   ],
   "source": [
    "#Skip rows 1-3 as study will not include population less than 16 years of age\n",
    "df_population = pd.read_csv(\"Ireland-2020.csv\", skiprows=[1,2,3])\n",
    "\n",
    "#Group data by Age_group and sum the male/female population for each age group\n",
    "df_population = df_population.groupby(['Age_group']).agg({'M': ['sum'], 'F': ['sum']}).reset_index()\n",
    "df_population.columns=(['Age_group', 'M', 'F'])\n",
    "df_population\n",
    "\n",
    "#Method to sum the male and female columns found on https://www.statology.org/pandas-groupby-aggregate-multiple-columns/"
   ]
  },
  {
   "cell_type": "code",
   "execution_count": 3,
   "metadata": {},
   "outputs": [
    {
     "data": {
      "image/png": "[encoded data removed]",
      "text/plain": [
       "<Figure size 648x432 with 2 Axes>"
      ]
     },
     "metadata": {
      "needs_background": "light"
     },
     "output_type": "display_data"
    }
   ],
   "source": [
    "#Plot the number of males v females for each age group in the population\n",
    "#see website https://www.statology.org/population-pyramid-python/ for pyramid subplot code\n",
    "\n",
    "#Specify the x and y axis\n",
    "y = range(len(df_population))\n",
    "x_male = df_population['M']\n",
    "x_female = df_population['F']\n",
    "\n",
    "#Configure the chart\n",
    "fig, axes = plt.subplots(ncols=2, sharey=True, figsize=(9, 6))\n",
    "axes[0].barh(y, x_male, align='center', color='blue')\n",
    "axes[0].set(title='Male')\n",
    "axes[1].barh(y, x_female, align='center', color='red')\n",
    "axes[1].set(title='Female')\n",
    "\n",
    "#Define the 'Age group' for the chart and invert so that charts are mirroring\n",
    "axes[0].set(yticks=y, yticklabels=df_population['Age_group'])\n",
    "axes[0].invert_xaxis()\n",
    "axes[0].grid()\n",
    "axes[1].grid()\n",
    "\n",
    "plt.show()"
   ]
  },
  {
   "cell_type": "markdown",
   "metadata": {},
   "source": [
    "Using the df_population dataframe it is possible to calculate the percentage of the population that falls into each age group."
   ]
  },
  {
   "cell_type": "code",
   "execution_count": 4,
   "metadata": {},
   "outputs": [
    {
     "data": {
      "text/html": [
       "<div>\n",
       "<style scoped>\n",
       "    .dataframe tbody tr th:only-of-type {\n",
       "        vertical-align: middle;\n",
       "    }\n",
       "\n",
       "    .dataframe tbody tr th {\n",
       "        vertical-align: top;\n",
       "    }\n",
       "\n",
       "    .dataframe thead th {\n",
       "        text-align: right;\n",
       "    }\n",
       "</style>\n",
       "<table border=\"1\" class=\"dataframe\">\n",
       "  <thead>\n",
       "    <tr style=\"text-align: right;\">\n",
       "      <th></th>\n",
       "      <th>Age_group</th>\n",
       "      <th>M</th>\n",
       "      <th>F</th>\n",
       "      <th>gen_count</th>\n",
       "      <th>population%</th>\n",
       "    </tr>\n",
       "  </thead>\n",
       "  <tbody>\n",
       "    <tr>\n",
       "      <th>0</th>\n",
       "      <td>16-24</td>\n",
       "      <td>305540</td>\n",
       "      <td>296180</td>\n",
       "      <td>601720</td>\n",
       "      <td>0.154</td>\n",
       "    </tr>\n",
       "    <tr>\n",
       "      <th>1</th>\n",
       "      <td>25-34</td>\n",
       "      <td>296129</td>\n",
       "      <td>292470</td>\n",
       "      <td>588599</td>\n",
       "      <td>0.151</td>\n",
       "    </tr>\n",
       "    <tr>\n",
       "      <th>2</th>\n",
       "      <td>35-44</td>\n",
       "      <td>379535</td>\n",
       "      <td>401001</td>\n",
       "      <td>780536</td>\n",
       "      <td>0.200</td>\n",
       "    </tr>\n",
       "    <tr>\n",
       "      <th>3</th>\n",
       "      <td>45-54</td>\n",
       "      <td>337318</td>\n",
       "      <td>342553</td>\n",
       "      <td>679871</td>\n",
       "      <td>0.174</td>\n",
       "    </tr>\n",
       "    <tr>\n",
       "      <th>4</th>\n",
       "      <td>55-64</td>\n",
       "      <td>266125</td>\n",
       "      <td>272459</td>\n",
       "      <td>538584</td>\n",
       "      <td>0.138</td>\n",
       "    </tr>\n",
       "    <tr>\n",
       "      <th>5</th>\n",
       "      <td>65-74</td>\n",
       "      <td>209153</td>\n",
       "      <td>218590</td>\n",
       "      <td>427743</td>\n",
       "      <td>0.109</td>\n",
       "    </tr>\n",
       "    <tr>\n",
       "      <th>6</th>\n",
       "      <td>75-94</td>\n",
       "      <td>130065</td>\n",
       "      <td>162024</td>\n",
       "      <td>292089</td>\n",
       "      <td>0.075</td>\n",
       "    </tr>\n",
       "  </tbody>\n",
       "</table>\n",
       "</div>"
      ],
      "text/plain": [
       "  Age_group       M       F  gen_count  population%\n",
       "0     16-24  305540  296180     601720        0.154\n",
       "1     25-34  296129  292470     588599        0.151\n",
       "2     35-44  379535  401001     780536        0.200\n",
       "3     45-54  337318  342553     679871        0.174\n",
       "4     55-64  266125  272459     538584        0.138\n",
       "5     65-74  209153  218590     427743        0.109\n",
       "6     75-94  130065  162024     292089        0.075"
      ]
     },
     "execution_count": 4,
     "metadata": {},
     "output_type": "execute_result"
    }
   ],
   "source": [
    "#Combine male/female population for each age group and show as percentage of population\n",
    "df_population['gen_count'] = df_population['M'] + df_population['F']\n",
    "\n",
    "#round population percentage to 3 decimal places\n",
    "df_population['population%'] = round(df_population['gen_count']/df_population['gen_count'].sum(), 3)\n",
    "df_population"
   ]
  },
  {
   "cell_type": "markdown",
   "metadata": {},
   "source": [
    "This study does not need the actual ages of the population but rather the population by age groups. It will be possible to generate this data using the random choice method. The population% column will also be used to assign a weighting for the popoulation size of each age group based on an overall sample size 10000."
   ]
  },
  {
   "cell_type": "code",
   "execution_count": 5,
   "metadata": {},
   "outputs": [
    {
     "data": {
      "text/plain": [
       "array(['16-24', '25-34', '35-44', '45-54', '55-64', '65-74', '75-94'],\n",
       "      dtype=object)"
      ]
     },
     "execution_count": 5,
     "metadata": {},
     "output_type": "execute_result"
    }
   ],
   "source": [
    "age_list = df_population['Age_group'].to_numpy()\n",
    "age_list"
   ]
  },
  {
   "cell_type": "code",
   "execution_count": 6,
   "metadata": {},
   "outputs": [
    {
     "data": {
      "text/plain": [
       "array(['35-44', '16-24', '45-54', ..., '55-64', '55-64', '25-34'],\n",
       "      dtype=object)"
      ]
     },
     "execution_count": 6,
     "metadata": {},
     "output_type": "execute_result"
    }
   ],
   "source": [
    "#Set the seed so that the pseudo-random data chosen is repeatable\n",
    "np.random.seed(2)\n",
    "\n",
    "#Rounding the population% to 3 decimal places - rounding to 0.150 for second item so sum of values equals 1\n",
    "age_population = np.random.choice(age_list, 10000, p=[0.154, 0.150, 0.200, 0.174, 0.138, 0.109, 0.075])\n",
    "age_population"
   ]
  },
  {
   "cell_type": "code",
   "execution_count": 7,
   "metadata": {},
   "outputs": [
    {
     "name": "stdout",
     "output_type": "stream",
     "text": [
      "{'16-24': 1597, '25-34': 1554, '35-44': 2023, '45-54': 1660, '55-64': 1330, '65-74': 1071, '75-94': 765}\n"
     ]
    }
   ],
   "source": [
    "#Count the number of times each age-group appears(each value is representative of a person)\n",
    "age_group_dict = {}\n",
    "\n",
    "for i in age_population: \n",
    "\n",
    "    age_group_dict[i] = age_group_dict.get(i, 0) + 1\n",
    "    age_group_dict = dict(sorted(age_group_dict.items()))\n",
    "    \n",
    "print(age_group_dict)"
   ]
  },
  {
   "cell_type": "code",
   "execution_count": 8,
   "metadata": {},
   "outputs": [
    {
     "data": {
      "image/png": "[encoded data removed]",
      "text/plain": [
       "<Figure size 432x288 with 1 Axes>"
      ]
     },
     "metadata": {
      "needs_background": "light"
     },
     "output_type": "display_data"
    }
   ],
   "source": [
    "#Bar chart of the pseudo randomly generated data for the population and age group\n",
    "plt.bar(range(len(age_group_dict)), list(age_group_dict.values()))\n",
    "plt.xticks(range(len(age_group_dict)), list(age_group_dict.keys()))\n",
    "\n",
    "plt.title(\"Population grouped by age group\")\n",
    "plt.xlabel(\"Age groups\")\n",
    "plt.ylabel(\"No of persons\")\n",
    "\n",
    "plt.show()\n",
    "\n",
    "#Assistance on plotting chart using a dictionary found at\n",
    "#https://stackoverflow.com/questions/16010869/plot-a-bar-using-matplotlib-using-a-dictionary"
   ]
  },
  {
   "cell_type": "markdown",
   "metadata": {},
   "source": [
    "The bar chart above follows a similiar pattern to the actual population and how it is distributed between each age group in Ireland."
   ]
  },
  {
   "cell_type": "code",
   "execution_count": 9,
   "metadata": {},
   "outputs": [],
   "source": [
    "#Preparing the simulated dataset\n",
    "cvd_sim = pd.DataFrame.from_dict(age_group_dict, orient='index')\n",
    "cvd_sim.columns=(['sim_pop'])\n",
    "\n",
    "#Reference to orient='index' found at https://www.geeksforgeeks.org/how-to-convert-dictionary-to-pandas-dataframe/"
   ]
  },
  {
   "cell_type": "code",
   "execution_count": 10,
   "metadata": {},
   "outputs": [],
   "source": [
    "#Reset the index so that age_group is a category \n",
    "#https://stackoverflow.com/questions/20107570/removing-index-column-in-pandas-when-reading-a-csv\n",
    "cvd_sim = cvd_sim.reset_index()"
   ]
  },
  {
   "cell_type": "code",
   "execution_count": 11,
   "metadata": {},
   "outputs": [
    {
     "data": {
      "text/html": [
       "<div>\n",
       "<style scoped>\n",
       "    .dataframe tbody tr th:only-of-type {\n",
       "        vertical-align: middle;\n",
       "    }\n",
       "\n",
       "    .dataframe tbody tr th {\n",
       "        vertical-align: top;\n",
       "    }\n",
       "\n",
       "    .dataframe thead th {\n",
       "        text-align: right;\n",
       "    }\n",
       "</style>\n",
       "<table border=\"1\" class=\"dataframe\">\n",
       "  <thead>\n",
       "    <tr style=\"text-align: right;\">\n",
       "      <th></th>\n",
       "      <th>age_group</th>\n",
       "      <th>sim_pop</th>\n",
       "    </tr>\n",
       "  </thead>\n",
       "  <tbody>\n",
       "    <tr>\n",
       "      <th>0</th>\n",
       "      <td>16-24</td>\n",
       "      <td>1597</td>\n",
       "    </tr>\n",
       "    <tr>\n",
       "      <th>1</th>\n",
       "      <td>25-34</td>\n",
       "      <td>1554</td>\n",
       "    </tr>\n",
       "    <tr>\n",
       "      <th>2</th>\n",
       "      <td>35-44</td>\n",
       "      <td>2023</td>\n",
       "    </tr>\n",
       "    <tr>\n",
       "      <th>3</th>\n",
       "      <td>45-54</td>\n",
       "      <td>1660</td>\n",
       "    </tr>\n",
       "    <tr>\n",
       "      <th>4</th>\n",
       "      <td>55-64</td>\n",
       "      <td>1330</td>\n",
       "    </tr>\n",
       "    <tr>\n",
       "      <th>5</th>\n",
       "      <td>65-74</td>\n",
       "      <td>1071</td>\n",
       "    </tr>\n",
       "    <tr>\n",
       "      <th>6</th>\n",
       "      <td>75-94</td>\n",
       "      <td>765</td>\n",
       "    </tr>\n",
       "  </tbody>\n",
       "</table>\n",
       "</div>"
      ],
      "text/plain": [
       "  age_group  sim_pop\n",
       "0     16-24     1597\n",
       "1     25-34     1554\n",
       "2     35-44     2023\n",
       "3     45-54     1660\n",
       "4     55-64     1330\n",
       "5     65-74     1071\n",
       "6     75-94      765"
      ]
     },
     "execution_count": 11,
     "metadata": {},
     "output_type": "execute_result"
    }
   ],
   "source": [
    "cvd_sim.columns=(['age_group', 'sim_pop'])\n",
    "cvd_sim"
   ]
  },
  {
   "cell_type": "markdown",
   "metadata": {},
   "source": [
    "***\n",
    "\n",
    "## Variable 2: Gender\n",
    "\n",
    "Using the Ireland-2020 population pyramid dataset as the primary reference point it would appear that the gender ratio of male to female for each age group is very similiar. However the background reseach used in the introduction of this project and published in the British Heart Foundation and indicates that females are possibly at higher risk above 85 years of age from dying due to the disease. A gender weighting for each age group will therefore be included when generating the pseudo-random data for this category."
   ]
  },
  {
   "cell_type": "markdown",
   "metadata": {},
   "source": [
    "<b>Gender weighting:</b> This is determined based on the number of males to females for each age group using the Ireland-2020 dataset as the reference point. "
   ]
  },
  {
   "cell_type": "code",
   "execution_count": 12,
   "metadata": {},
   "outputs": [
    {
     "data": {
      "text/plain": [
       "array([1597, 1554, 2023, 1660, 1330, 1071,  765], dtype=int64)"
      ]
     },
     "execution_count": 12,
     "metadata": {},
     "output_type": "execute_result"
    }
   ],
   "source": [
    "#Convert simulated population age groupings to array\n",
    "sim_pop_arr = cvd_sim['sim_pop'].to_numpy()\n",
    "sim_pop_arr"
   ]
  },
  {
   "cell_type": "code",
   "execution_count": 13,
   "metadata": {},
   "outputs": [
    {
     "data": {
      "text/plain": [
       "array([0.52, 0.51, 0.47, 0.49, 0.49, 0.48, 0.4 ])"
      ]
     },
     "execution_count": 13,
     "metadata": {},
     "output_type": "execute_result"
    }
   ],
   "source": [
    "#Determine male/female weighting based on the Ireland 2020 dataset for each age group\n",
    "gend_prob = (round(((df_population['M']/df_population['F'])/2), 2)).to_numpy()\n",
    "gend_prob"
   ]
  },
  {
   "cell_type": "code",
   "execution_count": 14,
   "metadata": {},
   "outputs": [
    {
     "data": {
      "text/plain": [
       "[array([834], dtype=int64),\n",
       " array([797], dtype=int64),\n",
       " array([947], dtype=int64),\n",
       " array([809], dtype=int64),\n",
       " array([649], dtype=int64),\n",
       " array([511], dtype=int64),\n",
       " array([304], dtype=int64)]"
      ]
     },
     "execution_count": 14,
     "metadata": {},
     "output_type": "execute_result"
    }
   ],
   "source": [
    "#Create array that includes the simulated no. of males for each age group\n",
    "sim_male = []\n",
    "#Set seed sequence so results are repeatable\n",
    "seed_seq = np.random.SeedSequence(44)\n",
    "\n",
    "for pop, prob in zip(sim_pop_arr, gend_prob):\n",
    "\n",
    "    m = np.random.default_rng(seed_seq).binomial(pop, prob, 1)\n",
    "    sim_male.append(m)\n",
    "\n",
    "sim_male\n",
    "\n",
    "#Reference https://pythonbasics.org/pandas-iterate-dataframe/ for example on applying the zip method"
   ]
  },
  {
   "cell_type": "code",
   "execution_count": 15,
   "metadata": {},
   "outputs": [
    {
     "data": {
      "text/plain": [
       "array([[834],\n",
       "       [797],\n",
       "       [947],\n",
       "       [809],\n",
       "       [649],\n",
       "       [511],\n",
       "       [304]], dtype=int64)"
      ]
     },
     "execution_count": 15,
     "metadata": {},
     "output_type": "execute_result"
    }
   ],
   "source": [
    "#Convert to numpy array\n",
    "sim_male_arr = np.array(sim_male)\n",
    "sim_male_arr"
   ]
  },
  {
   "cell_type": "code",
   "execution_count": 16,
   "metadata": {},
   "outputs": [
    {
     "data": {
      "text/plain": [
       "array([834, 797, 947, 809, 649, 511, 304], dtype=int64)"
      ]
     },
     "execution_count": 16,
     "metadata": {},
     "output_type": "execute_result"
    }
   ],
   "source": [
    "#Convert 2d array to 1d using flatten method\n",
    "#https://thispointer.com/python-convert-matrix-2d-numpy-array-to-a-1d-numpy-array/#:~:text=Convert%202D%20Numpy%20array%20to%201D%20Numpy%20array,a%20flatten%201D%20view%20of%20the%20input%20array%2C\n",
    "sim_male_flat = sim_male_arr.flatten()\n",
    "sim_male_flat"
   ]
  },
  {
   "cell_type": "code",
   "execution_count": 17,
   "metadata": {},
   "outputs": [
    {
     "data": {
      "text/html": [
       "<div>\n",
       "<style scoped>\n",
       "    .dataframe tbody tr th:only-of-type {\n",
       "        vertical-align: middle;\n",
       "    }\n",
       "\n",
       "    .dataframe tbody tr th {\n",
       "        vertical-align: top;\n",
       "    }\n",
       "\n",
       "    .dataframe thead th {\n",
       "        text-align: right;\n",
       "    }\n",
       "</style>\n",
       "<table border=\"1\" class=\"dataframe\">\n",
       "  <thead>\n",
       "    <tr style=\"text-align: right;\">\n",
       "      <th></th>\n",
       "      <th>age_group</th>\n",
       "      <th>sim_pop</th>\n",
       "      <th>male</th>\n",
       "      <th>female</th>\n",
       "    </tr>\n",
       "  </thead>\n",
       "  <tbody>\n",
       "    <tr>\n",
       "      <th>0</th>\n",
       "      <td>16-24</td>\n",
       "      <td>1597</td>\n",
       "      <td>834</td>\n",
       "      <td>763</td>\n",
       "    </tr>\n",
       "    <tr>\n",
       "      <th>1</th>\n",
       "      <td>25-34</td>\n",
       "      <td>1554</td>\n",
       "      <td>797</td>\n",
       "      <td>757</td>\n",
       "    </tr>\n",
       "    <tr>\n",
       "      <th>2</th>\n",
       "      <td>35-44</td>\n",
       "      <td>2023</td>\n",
       "      <td>947</td>\n",
       "      <td>1076</td>\n",
       "    </tr>\n",
       "    <tr>\n",
       "      <th>3</th>\n",
       "      <td>45-54</td>\n",
       "      <td>1660</td>\n",
       "      <td>809</td>\n",
       "      <td>851</td>\n",
       "    </tr>\n",
       "    <tr>\n",
       "      <th>4</th>\n",
       "      <td>55-64</td>\n",
       "      <td>1330</td>\n",
       "      <td>649</td>\n",
       "      <td>681</td>\n",
       "    </tr>\n",
       "    <tr>\n",
       "      <th>5</th>\n",
       "      <td>65-74</td>\n",
       "      <td>1071</td>\n",
       "      <td>511</td>\n",
       "      <td>560</td>\n",
       "    </tr>\n",
       "    <tr>\n",
       "      <th>6</th>\n",
       "      <td>75-94</td>\n",
       "      <td>765</td>\n",
       "      <td>304</td>\n",
       "      <td>461</td>\n",
       "    </tr>\n",
       "  </tbody>\n",
       "</table>\n",
       "</div>"
      ],
      "text/plain": [
       "  age_group  sim_pop  male  female\n",
       "0     16-24     1597   834     763\n",
       "1     25-34     1554   797     757\n",
       "2     35-44     2023   947    1076\n",
       "3     45-54     1660   809     851\n",
       "4     55-64     1330   649     681\n",
       "5     65-74     1071   511     560\n",
       "6     75-94      765   304     461"
      ]
     },
     "execution_count": 17,
     "metadata": {},
     "output_type": "execute_result"
    }
   ],
   "source": [
    "#Change array to pandas Series\n",
    "sim_male_flat = pd.Series(sim_male_flat)\n",
    "\n",
    "#Add the series to the simulated dataset\n",
    "#This is the simulated amount of males per age group generated using random binomial method\n",
    "cvd_sim['male'] = sim_male_flat\n",
    "\n",
    "#This is the simulated amount of females per age group\n",
    "cvd_sim['female'] = cvd_sim['sim_pop'] - cvd_sim['male']\n",
    "\n",
    "cvd_sim"
   ]
  },
  {
   "cell_type": "code",
   "execution_count": 18,
   "metadata": {},
   "outputs": [
    {
     "data": {
      "image/png": "[encoded data removed]",
      "text/plain": [
       "<Figure size 648x432 with 2 Axes>"
      ]
     },
     "metadata": {
      "needs_background": "light"
     },
     "output_type": "display_data"
    }
   ],
   "source": [
    "#Plot the number of males v females for each age group in the simulated population\n",
    "\n",
    "#Specify the x and y axis\n",
    "y1 = range(len(cvd_sim))\n",
    "sim_male = cvd_sim['male']\n",
    "sim_female = cvd_sim['female']\n",
    "\n",
    "#Configure the chart\n",
    "fig, axes = plt.subplots(ncols=2, sharey=True, figsize=(9, 6))\n",
    "axes[0].barh(y1, sim_male, align='center', color='grey')\n",
    "axes[0].set(title='Simulated Males')\n",
    "axes[1].barh(y1, sim_female, align='center', color='yellow')\n",
    "axes[1].set(title='Simulated Females')\n",
    "\n",
    "#Define the 'Age group' for the chart and invert so that charts are mirroring\n",
    "axes[0].set(yticks=y, yticklabels=cvd_sim['age_group'])\n",
    "axes[0].invert_xaxis()\n",
    "axes[0].grid()\n",
    "axes[1].grid()\n",
    "\n",
    "plt.show()"
   ]
  },
  {
   "cell_type": "markdown",
   "metadata": {},
   "source": [
    "***\n",
    "## Variable 3: Tobacco use\n",
    "   \n",
    "Using the article published in the British Heart Foundation as a reference it would appear that the percentage of male and female smokers for each age group is very similiar. For the purposes of this project it will be assumed that the same percentage use tobacco in each age group. Figures for smoker_pct taken from the table in section \"Smoker vs non-smoker\". "
   ]
  },
  {
   "cell_type": "code",
   "execution_count": 19,
   "metadata": {},
   "outputs": [
    {
     "data": {
      "text/plain": [
       "array([0.18, 0.22, 0.2 , 0.22, 0.16, 0.12, 0.05])"
      ]
     },
     "execution_count": 19,
     "metadata": {},
     "output_type": "execute_result"
    }
   ],
   "source": [
    "#The percentage of smokers per age group - taken from article published by the British Heart Found\n",
    "#See Smoker vs non-smoker section above\n",
    "smoker_pct = [0.18, 0.22, 0.20, 0.22, 0.16, 0.12, 0.05]\n",
    "smoker_pct_arr = np.array(smoker_pct)\n",
    "smoker_pct_arr"
   ]
  },
  {
   "cell_type": "code",
   "execution_count": 20,
   "metadata": {},
   "outputs": [],
   "source": [
    "#Convert simulated population gender groupings to array\n",
    "sim_m_arr = cvd_sim['male'].to_numpy()\n",
    "sim_f_arr = cvd_sim['female'].to_numpy()"
   ]
  },
  {
   "cell_type": "code",
   "execution_count": 21,
   "metadata": {},
   "outputs": [
    {
     "name": "stdout",
     "output_type": "stream",
     "text": [
      "[array([143], dtype=int64), array([167], dtype=int64), array([180], dtype=int64), array([170], dtype=int64), array([99], dtype=int64), array([58], dtype=int64), array([12], dtype=int64)]\n",
      "[array([130], dtype=int64), array([158], dtype=int64), array([205], dtype=int64), array([179], dtype=int64), array([103], dtype=int64), array([64], dtype=int64), array([19], dtype=int64)]\n"
     ]
    }
   ],
   "source": [
    "#Create array that includes the simulated no. of smokers for both genders for each age group\n",
    "sim_m_smoker = []\n",
    "sim_f_smoker = []\n",
    "\n",
    "#Set seed sequence so results are repeatable\n",
    "seed_seq2 = np.random.SeedSequence(88)\n",
    "\n",
    "for prob, m_smoke, f_smoke in zip(smoker_pct_arr, sim_m_arr, sim_f_arr):\n",
    "\n",
    "    d = np.random.default_rng(seed_seq2).binomial(m_smoke, prob, 1)\n",
    "    sim_m_smoker.append(d)\n",
    "    \n",
    "    e = np.random.default_rng(seed_seq2).binomial(f_smoke, prob, 1)\n",
    "    sim_f_smoker.append(e)\n",
    "\n",
    "print(sim_m_smoker)\n",
    "print(sim_f_smoker)"
   ]
  },
  {
   "cell_type": "code",
   "execution_count": 22,
   "metadata": {},
   "outputs": [],
   "source": [
    "#Convert to numpy array\n",
    "sim_m_smoker_arr = np.array(sim_m_smoker)\n",
    "sim_f_smoker_arr = np.array(sim_f_smoker)"
   ]
  },
  {
   "cell_type": "code",
   "execution_count": 23,
   "metadata": {},
   "outputs": [],
   "source": [
    "#Change to 1d arrays\n",
    "sim_m_smoker_flat = sim_m_smoker_arr.flatten()\n",
    "sim_f_smoker_flat = sim_f_smoker_arr.flatten()"
   ]
  },
  {
   "cell_type": "code",
   "execution_count": 24,
   "metadata": {},
   "outputs": [
    {
     "data": {
      "text/html": [
       "<div>\n",
       "<style scoped>\n",
       "    .dataframe tbody tr th:only-of-type {\n",
       "        vertical-align: middle;\n",
       "    }\n",
       "\n",
       "    .dataframe tbody tr th {\n",
       "        vertical-align: top;\n",
       "    }\n",
       "\n",
       "    .dataframe thead th {\n",
       "        text-align: right;\n",
       "    }\n",
       "</style>\n",
       "<table border=\"1\" class=\"dataframe\">\n",
       "  <thead>\n",
       "    <tr style=\"text-align: right;\">\n",
       "      <th></th>\n",
       "      <th>age_group</th>\n",
       "      <th>sim_pop</th>\n",
       "      <th>male</th>\n",
       "      <th>female</th>\n",
       "      <th>m_smoker</th>\n",
       "      <th>f_smoker</th>\n",
       "    </tr>\n",
       "  </thead>\n",
       "  <tbody>\n",
       "    <tr>\n",
       "      <th>0</th>\n",
       "      <td>16-24</td>\n",
       "      <td>1597</td>\n",
       "      <td>834</td>\n",
       "      <td>763</td>\n",
       "      <td>143</td>\n",
       "      <td>130</td>\n",
       "    </tr>\n",
       "    <tr>\n",
       "      <th>1</th>\n",
       "      <td>25-34</td>\n",
       "      <td>1554</td>\n",
       "      <td>797</td>\n",
       "      <td>757</td>\n",
       "      <td>167</td>\n",
       "      <td>158</td>\n",
       "    </tr>\n",
       "    <tr>\n",
       "      <th>2</th>\n",
       "      <td>35-44</td>\n",
       "      <td>2023</td>\n",
       "      <td>947</td>\n",
       "      <td>1076</td>\n",
       "      <td>180</td>\n",
       "      <td>205</td>\n",
       "    </tr>\n",
       "    <tr>\n",
       "      <th>3</th>\n",
       "      <td>45-54</td>\n",
       "      <td>1660</td>\n",
       "      <td>809</td>\n",
       "      <td>851</td>\n",
       "      <td>170</td>\n",
       "      <td>179</td>\n",
       "    </tr>\n",
       "    <tr>\n",
       "      <th>4</th>\n",
       "      <td>55-64</td>\n",
       "      <td>1330</td>\n",
       "      <td>649</td>\n",
       "      <td>681</td>\n",
       "      <td>99</td>\n",
       "      <td>103</td>\n",
       "    </tr>\n",
       "    <tr>\n",
       "      <th>5</th>\n",
       "      <td>65-74</td>\n",
       "      <td>1071</td>\n",
       "      <td>511</td>\n",
       "      <td>560</td>\n",
       "      <td>58</td>\n",
       "      <td>64</td>\n",
       "    </tr>\n",
       "    <tr>\n",
       "      <th>6</th>\n",
       "      <td>75-94</td>\n",
       "      <td>765</td>\n",
       "      <td>304</td>\n",
       "      <td>461</td>\n",
       "      <td>12</td>\n",
       "      <td>19</td>\n",
       "    </tr>\n",
       "  </tbody>\n",
       "</table>\n",
       "</div>"
      ],
      "text/plain": [
       "  age_group  sim_pop  male  female  m_smoker  f_smoker\n",
       "0     16-24     1597   834     763       143       130\n",
       "1     25-34     1554   797     757       167       158\n",
       "2     35-44     2023   947    1076       180       205\n",
       "3     45-54     1660   809     851       170       179\n",
       "4     55-64     1330   649     681        99       103\n",
       "5     65-74     1071   511     560        58        64\n",
       "6     75-94      765   304     461        12        19"
      ]
     },
     "execution_count": 24,
     "metadata": {},
     "output_type": "execute_result"
    }
   ],
   "source": [
    "#Change to pandas Series\n",
    "sim_m_smoker_flat = pd.Series(sim_m_smoker_flat)\n",
    "sim_f_smoker_flat = pd.Series(sim_f_smoker_flat)\n",
    "\n",
    "#Add to the simulated dataset\n",
    "cvd_sim['m_smoker'] = sim_m_smoker_flat\n",
    "cvd_sim['f_smoker'] = sim_f_smoker_flat\n",
    "\n",
    "cvd_sim"
   ]
  },
  {
   "cell_type": "markdown",
   "metadata": {},
   "source": [
    "***\n",
    "## Variable 4: Weight\n",
    "\n"
   ]
  },
  {
   "cell_type": "code",
   "execution_count": null,
   "metadata": {},
   "outputs": [],
   "source": []
  },
  {
   "cell_type": "markdown",
   "metadata": {},
   "source": [
    "***\n",
    "## Reassessing the dataset:\n",
    "\n",
    "When generating the simulated data in the variable sections above it was assumed that it would be a simple task to use that data to populate the entire dataset using values. However this has not been straight forward. As time is running out for completing project and in order to progress, Variable 4: Weight will not be complete until the data in Variables 1/2/3 has been converted into the actual format to be submitted as part of the final dataset."
   ]
  },
  {
   "cell_type": "markdown",
   "metadata": {},
   "source": [
    "### df_cvd['age_group']:\n",
    "\n",
    "At first it was not clear how to create the df_cvd['age_group'] column so that it would use the same values generated in the Variable 1. Using a for loop to loop through age_list[i] and sim_pop_arr[i] worked however it was clearly inefficient."
   ]
  },
  {
   "cell_type": "raw",
   "metadata": {},
   "source": [
    "#Using the values generated for the simulated population size per age group\n",
    "sim_pop_arr\n",
    "#The age groups\n",
    "age_list\n",
    "\n",
    "#Multiply each age group by their applicable population size to \n",
    "final_age_group = []\n",
    "for i in range(len(age_list)):\n",
    "    final_age_group += [age_list[i]] * sim_pop_arr[i]\n",
    "\n",
    "#assisstance from stackoverflow webpage:\n",
    "#https://stackoverflow.com/questions/48837245/how-to-multiply-a-list-of-strings-by-a-list-of-integers\n",
    "\n",
    "#Change array to pandas Series\n",
    "final_age_group2 = pd.Series(final_age_group)\n",
    "\n",
    "df_cvd = pd.DataFrame(final_age_group2)\n",
    "df_cvd.columns=(['age_group'])\n",
    "df_cvd"
   ]
  },
  {
   "cell_type": "markdown",
   "metadata": {},
   "source": [
    "Research online led to a more efficient way to create df_cvd['age_group'] which allowed using the age group sizes generated in Variable 1:"
   ]
  },
  {
   "cell_type": "code",
   "execution_count": 25,
   "metadata": {},
   "outputs": [
    {
     "data": {
      "text/html": [
       "<div>\n",
       "<style scoped>\n",
       "    .dataframe tbody tr th:only-of-type {\n",
       "        vertical-align: middle;\n",
       "    }\n",
       "\n",
       "    .dataframe tbody tr th {\n",
       "        vertical-align: top;\n",
       "    }\n",
       "\n",
       "    .dataframe thead th {\n",
       "        text-align: right;\n",
       "    }\n",
       "</style>\n",
       "<table border=\"1\" class=\"dataframe\">\n",
       "  <thead>\n",
       "    <tr style=\"text-align: right;\">\n",
       "      <th></th>\n",
       "      <th>age_group</th>\n",
       "    </tr>\n",
       "  </thead>\n",
       "  <tbody>\n",
       "    <tr>\n",
       "      <th>0</th>\n",
       "      <td>16-24</td>\n",
       "    </tr>\n",
       "    <tr>\n",
       "      <th>1</th>\n",
       "      <td>16-24</td>\n",
       "    </tr>\n",
       "    <tr>\n",
       "      <th>2</th>\n",
       "      <td>16-24</td>\n",
       "    </tr>\n",
       "    <tr>\n",
       "      <th>3</th>\n",
       "      <td>16-24</td>\n",
       "    </tr>\n",
       "    <tr>\n",
       "      <th>4</th>\n",
       "      <td>16-24</td>\n",
       "    </tr>\n",
       "    <tr>\n",
       "      <th>...</th>\n",
       "      <td>...</td>\n",
       "    </tr>\n",
       "    <tr>\n",
       "      <th>9995</th>\n",
       "      <td>75-94</td>\n",
       "    </tr>\n",
       "    <tr>\n",
       "      <th>9996</th>\n",
       "      <td>75-94</td>\n",
       "    </tr>\n",
       "    <tr>\n",
       "      <th>9997</th>\n",
       "      <td>75-94</td>\n",
       "    </tr>\n",
       "    <tr>\n",
       "      <th>9998</th>\n",
       "      <td>75-94</td>\n",
       "    </tr>\n",
       "    <tr>\n",
       "      <th>9999</th>\n",
       "      <td>75-94</td>\n",
       "    </tr>\n",
       "  </tbody>\n",
       "</table>\n",
       "<p>10000 rows × 1 columns</p>\n",
       "</div>"
      ],
      "text/plain": [
       "     age_group\n",
       "0        16-24\n",
       "1        16-24\n",
       "2        16-24\n",
       "3        16-24\n",
       "4        16-24\n",
       "...        ...\n",
       "9995     75-94\n",
       "9996     75-94\n",
       "9997     75-94\n",
       "9998     75-94\n",
       "9999     75-94\n",
       "\n",
       "[10000 rows x 1 columns]"
      ]
     },
     "execution_count": 25,
     "metadata": {},
     "output_type": "execute_result"
    }
   ],
   "source": [
    "#Using the age_population data generated in Variable 1\n",
    "age_population_final = age_population\n",
    "age_population_final = pd.Series(age_population_final)\n",
    "\n",
    "df_cvd = pd.DataFrame(age_population_final.sort_values(ascending=True), columns=['age_group'])\n",
    "#Sorting the DataFrame at https://data-flair.training/blogs/sort-pandas-dataframes-series-array/\n",
    "\n",
    "df_cvd = df_cvd.reset_index(drop=True)\n",
    "#Reset the index at https://stackoverflow.com/questions/33165734/update-index-after-sorting-data-frame\n",
    "\n",
    "df_cvd"
   ]
  },
  {
   "cell_type": "markdown",
   "metadata": {},
   "source": [
    "### df_cvd['gender']:\n",
    "\n",
    "It has not been possible to multiply the number of males and females for each age group using the data generated in Variable 2. The difficulty has been around retrieving individual pieces of data for each binomial test. It had been planned to assign a weighting for male to females for each age group as is done in Variable 2 however it was not possible to convert this into an array of 10000 values. For this reason it will be assumed that the female and male population is evenly distributed for all age groups rather than the weightings used in 'gend_prob' array above."
   ]
  },
  {
   "cell_type": "code",
   "execution_count": 26,
   "metadata": {},
   "outputs": [],
   "source": [
    "#Assume the population sizes of female/male is evenly distributed \n",
    "probability = .5\n",
    "\n",
    "#num of flips required. This can be changed.\n",
    "pop_size = 10000\n",
    "\n",
    "#initiate array\n",
    "gender_result = np.arange(pop_size)"
   ]
  },
  {
   "cell_type": "code",
   "execution_count": 27,
   "metadata": {},
   "outputs": [],
   "source": [
    "#Guidance for creating array of 1's and 0's when using the random binomial method\n",
    "#found on webpage https://reginaoftech.com/how-to-code-a-fair-coin-flip-in-python/\n",
    "\n",
    "def male_fem(p):    \n",
    "      \n",
    "    #perform the binomial distribution (returns 0 ('female') or 1 ('male'))    \n",
    "    gend_pick = np.random.default_rng().binomial(1,p, 1) \n",
    "       \n",
    "    #return value to be added to numpy array    \n",
    "    return gend_pick\n",
    "\n",
    "#run pop_size test at required probability set above\n",
    "for i in range(pop_size):    \n",
    "    gender_result[i] = male_fem(probability)\n",
    "    i+=1\n",
    "\n",
    "#Convert array of 1's and 0's to male and females\n",
    "gender_result = ['male' if x == 1 else 'female' for x in gender_result]"
   ]
  },
  {
   "cell_type": "code",
   "execution_count": 28,
   "metadata": {},
   "outputs": [
    {
     "data": {
      "text/html": [
       "<div>\n",
       "<style scoped>\n",
       "    .dataframe tbody tr th:only-of-type {\n",
       "        vertical-align: middle;\n",
       "    }\n",
       "\n",
       "    .dataframe tbody tr th {\n",
       "        vertical-align: top;\n",
       "    }\n",
       "\n",
       "    .dataframe thead th {\n",
       "        text-align: right;\n",
       "    }\n",
       "</style>\n",
       "<table border=\"1\" class=\"dataframe\">\n",
       "  <thead>\n",
       "    <tr style=\"text-align: right;\">\n",
       "      <th></th>\n",
       "      <th>age_group</th>\n",
       "      <th>gender</th>\n",
       "    </tr>\n",
       "  </thead>\n",
       "  <tbody>\n",
       "    <tr>\n",
       "      <th>0</th>\n",
       "      <td>16-24</td>\n",
       "      <td>female</td>\n",
       "    </tr>\n",
       "    <tr>\n",
       "      <th>1</th>\n",
       "      <td>16-24</td>\n",
       "      <td>male</td>\n",
       "    </tr>\n",
       "    <tr>\n",
       "      <th>2</th>\n",
       "      <td>16-24</td>\n",
       "      <td>female</td>\n",
       "    </tr>\n",
       "    <tr>\n",
       "      <th>3</th>\n",
       "      <td>16-24</td>\n",
       "      <td>male</td>\n",
       "    </tr>\n",
       "    <tr>\n",
       "      <th>4</th>\n",
       "      <td>16-24</td>\n",
       "      <td>female</td>\n",
       "    </tr>\n",
       "    <tr>\n",
       "      <th>...</th>\n",
       "      <td>...</td>\n",
       "      <td>...</td>\n",
       "    </tr>\n",
       "    <tr>\n",
       "      <th>9995</th>\n",
       "      <td>75-94</td>\n",
       "      <td>female</td>\n",
       "    </tr>\n",
       "    <tr>\n",
       "      <th>9996</th>\n",
       "      <td>75-94</td>\n",
       "      <td>male</td>\n",
       "    </tr>\n",
       "    <tr>\n",
       "      <th>9997</th>\n",
       "      <td>75-94</td>\n",
       "      <td>female</td>\n",
       "    </tr>\n",
       "    <tr>\n",
       "      <th>9998</th>\n",
       "      <td>75-94</td>\n",
       "      <td>male</td>\n",
       "    </tr>\n",
       "    <tr>\n",
       "      <th>9999</th>\n",
       "      <td>75-94</td>\n",
       "      <td>male</td>\n",
       "    </tr>\n",
       "  </tbody>\n",
       "</table>\n",
       "<p>10000 rows × 2 columns</p>\n",
       "</div>"
      ],
      "text/plain": [
       "     age_group  gender\n",
       "0        16-24  female\n",
       "1        16-24    male\n",
       "2        16-24  female\n",
       "3        16-24    male\n",
       "4        16-24  female\n",
       "...        ...     ...\n",
       "9995     75-94  female\n",
       "9996     75-94    male\n",
       "9997     75-94  female\n",
       "9998     75-94    male\n",
       "9999     75-94    male\n",
       "\n",
       "[10000 rows x 2 columns]"
      ]
     },
     "execution_count": 28,
     "metadata": {},
     "output_type": "execute_result"
    }
   ],
   "source": [
    "df_cvd['gender'] = gender_result\n",
    "df_cvd"
   ]
  }
 ],
 "metadata": {
  "kernelspec": {
   "display_name": "Python 3",
   "language": "python",
   "name": "python3"
  },
  "language_info": {
   "codemirror_mode": {
    "name": "ipython",
    "version": 3
   },
   "file_extension": ".py",
   "mimetype": "text/x-python",
   "name": "python",
   "nbconvert_exporter": "python",
   "pygments_lexer": "ipython3",
   "version": "3.8.3"
  }
 },
 "nbformat": 4,
 "nbformat_minor": 4
}
