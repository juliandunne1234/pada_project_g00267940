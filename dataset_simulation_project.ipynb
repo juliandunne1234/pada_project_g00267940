{
 "cells": [
  {
   "cell_type": "markdown",
   "metadata": {},
   "source": [
    "# Programming for Data Analysis: Simulating Real World Phenomenom"
   ]
  },
  {
   "cell_type": "markdown",
   "metadata": {},
   "source": [
    "Author: Julian Dunne g00267940@gmit.ie"
   ]
  },
  {
   "cell_type": "markdown",
   "metadata": {},
   "source": [
    "Create a data set by simulating a real-world phenomenon. Model and synthesise the data using Python. Use the numpy.random package for this purpose. The project should include:\n",
    "\n",
    "- Choose a real-world phenomenon that can be measured and for which you could collect at least one-hundred data points across at least four different variables.\n",
    "\n",
    "- Investigate the types of variables involved, their likely distributions, and their relationships with each other.\n",
    "\n",
    "- Synthesise/simulate a data set as closely matching their properties as possible.\n",
    "\n",
    "- Detail your research and implement the simulation in a Jupyter notebook – the data set itself can simply be displayed in an output cell within the notebook."
   ]
  },
  {
   "cell_type": "markdown",
   "metadata": {},
   "source": [
    "# Project plan:\n",
    "\n",
    "Cardiovascular disease will be the subject for this project. The reason for choosing this topic is that there is many variables that noticeably increase the likelihood of developing heart disease and that these variables should be very useful for simulating a data set to demonstrate this real world phenomenom. "
   ]
  },
  {
   "cell_type": "markdown",
   "metadata": {},
   "source": [
    "# Project Assumptions for Cardiovascular Disease"
   ]
  },
  {
   "cell_type": "markdown",
   "metadata": {},
   "source": [
    "Cardiovascular disease includes all diseases of the heart and circulation but most commonly it refers to coronary heart disease (angina, heart attack), stroke and other blood vessel diseases. Other conditions include congenital heart disease, heart valve disease and disease of the heart muscle (cardiomyopathy) <b>insert reference here for irish heart foundation pdf by June Shannon 1stNo2018</b>. For the puposes of this project it will be assumed that all Cardiovascular diseases are the same disease. "
   ]
  },
  {
   "cell_type": "markdown",
   "metadata": {},
   "source": [
    "According to <b> insert reference https://www.medicinenet.com/script/main/art.asp?articlekey=203653 </b> it is estimated that a third of all dates around the world are the result of cardiovascular disease. This would make this disease the number one killer in the world."
   ]
  },
  {
   "cell_type": "markdown",
   "metadata": {},
   "source": [
    "As this is worldwdide phenomenom and for the purposes of this project it will be assumed that the dataset for this study focuses only on the population of Ireland and the United Kingdom. The reason being it would be expected that the population in these countries would be similiarly distributed including similiar work-life, diet, lifestyles etc."
   ]
  },
  {
   "cell_type": "markdown",
   "metadata": {},
   "source": [
    "Now that the above assumptions have been made it is possible to begin to consider what the factors are that can lead to developing Cardiovascular disease and the significance of these factors when analysing this disease.  "
   ]
  },
  {
   "cell_type": "markdown",
   "metadata": {},
   "source": [
    "### Gender\n",
    "According to the Vital Statistics Annual Report 2016 from the Central Statistics Office (CSO), there were a total of 9,237 deaths attributed to diseases of the circulatory system or cardiovascular disease in 2016, of which 4,768 were men and 4,469 were women <b>insert reference here for irish heart foundation pdf by June Shannon 1stNo2018</b>. It would appear that the number of dates between men and women in 2016 in Ireland from this disease was very similiar."
   ]
  },
  {
   "cell_type": "markdown",
   "metadata": {},
   "source": [
    "### Age\n",
    "\n",
    "According to <b>insert reference here for irish heart foundation pdf by June Shannon 1stNo2018</b> more than 73.4 per cent of deaths due to cardiovascular disease in Ireland occurred in older people or those aged 75 and over. It is clear that age has a significant impact in mortality rates due to cardiovascular disease. A table showing age groups and the number of deaths in each age group was found in a publication by the British Heat Foundation <b>insert reference Heart and Circulatory Disease Statistics 2019 and a picture of the table</b> "
   ]
  },
  {
   "cell_type": "markdown",
   "metadata": {},
   "source": [
    "<img src=\"deaths_by_cause_UK_2017.png\" width=\"1000\" height=\"1000\">\n",
    "<br>"
   ]
  },
  {
   "cell_type": "markdown",
   "metadata": {},
   "source": [
    "Although this table is for the UK the percentage of deaths due to heart and circulatory diseases is very close to 73.4 per cent. Based on the table (49,329+75,671) / 168,472 gives 74.2 per cent of deaths due to cardiovascular disease in the UK occurred in older people or those aged 75 and over.\n",
    "\n",
    "This provides a greater confidence that reference data from Ireland and the UK is representative of each other and suitable for using as a point of reference when simulating datasets and assigning weightings to the different variables generate this dataset. \n",
    "\n",
    "<b>Note: </b>It is noticeable from the table that men are more likely to die at a younger age from cardiovascular disease wthan women who are more likely to die at an older age from the disease. This table would suggest that gender does matter and can be included as a variable in the dataset. "
   ]
  },
  {
   "cell_type": "markdown",
   "metadata": {},
   "source": [
    "### Smoker Vs Non-smoker\n",
    "\n",
    "According to an article in International Business Times https://www.ibtimes.co.uk/smoking-tobacco-causes-20-percent-heart-disease-related-deaths-1683751, the World Health Organization (WHO) estimates that 20 percent of heart disease-related deaths are caused by tobacco use. This would suggest that smoking tobacco noticeably increase the likelihood of death from cardiovascular disease. A table showing the estimated number of smokers in the UK was found in a publication by the British Heat Foundation <b>insert reference Heart and Circulatory Disease Statistics 2019 and a picture of the table 5.10</b>"
   ]
  },
  {
   "cell_type": "markdown",
   "metadata": {},
   "source": [
    "<img src=\"smokers_UK_2017.png\" width=\"1000\" height=\"1000\">\n",
    "<br>"
   ]
  },
  {
   "cell_type": "markdown",
   "metadata": {},
   "source": [
    "An estimated 19 per cent of men smoke. It is slightly lower at 16 per cent for women. For the purposes of this project it will be assumed that men and women are the same and that the category is divided into smoker versus non smoker. The distinction between the amount of tobacco used daily will be divided in zero packets (non-smoker), one packet and greater than one packet."
   ]
  },
  {
   "cell_type": "markdown",
   "metadata": {},
   "source": [
    "### Weight\n",
    "\n",
    "A persons weight is categorised primarily using the body mass index (BMI) calculation by taking a persons weight in kilograms and dividing it by the height in meters squared. A table showing the prevalence of obesity in the UK was found in a publication by the British Heat Foundation <b>insert reference Heart and Circulatory Disease Statistics 2019 and a picture of the table 5.8</b>"
   ]
  },
  {
   "cell_type": "markdown",
   "metadata": {},
   "source": [
    "<img src=\"obesity_UK_2017.png\" width=\"1000\" height=\"1000\">\n",
    "<br>"
   ]
  },
  {
   "cell_type": "markdown",
   "metadata": {},
   "source": [
    "BMI may be an easy way to categorize weight in population-based studies, but it’s not a great way to assess an individual’s health risk without digging further. It doesn’t take into consideration things like muscle mass, body fat percentage, or where and how your body stores fat - see website for more detail https://www.self.com/story/the-science-on-weight-and-health. For the purposes of this project it is assumed that a persons weight is either \"accetable\" or \"obese\"."
   ]
  },
  {
   "cell_type": "markdown",
   "metadata": {},
   "source": [
    "### Cause of Death\n",
    "\n",
    "The simulated dataset will return a Cause_of_Death response for each death in the population. The cause of death is either as a result of cardiovascular disease or not as a result of the disease. The probability that the cause of death is related to the disease will consider the variables listed above and their significance with respect to the disease and mortality rates."
   ]
  }
 ],
 "metadata": {
  "kernelspec": {
   "display_name": "Python 3",
   "language": "python",
   "name": "python3"
  },
  "language_info": {
   "codemirror_mode": {
    "name": "ipython",
    "version": 3
   },
   "file_extension": ".py",
   "mimetype": "text/x-python",
   "name": "python",
   "nbconvert_exporter": "python",
   "pygments_lexer": "ipython3",
   "version": "3.8.3"
  }
 },
 "nbformat": 4,
 "nbformat_minor": 4
}
